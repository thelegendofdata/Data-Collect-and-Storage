{
 "cells": [
  {
   "cell_type": "markdown",
   "metadata": {},
   "source": [
    "**Introduction**"
   ]
  },
  {
   "cell_type": "markdown",
   "metadata": {},
   "source": [
    "We aim to dive deep into these datasets, studying their content, verifying data types, and identifying the top 10 neighborhoods with the highest drop-offs. Our quest doesn't end here though, as we also aspire to visually represent our data, creating compelling graphs depicting the number of rides per taxi company and drop-off numbers for the top neighborhoods."
   ]
  },
  {
   "cell_type": "code",
   "execution_count": 1,
   "metadata": {},
   "outputs": [],
   "source": [
    "import pandas as pd\n",
    "import numpy as np\n",
    "import matplotlib.pyplot as plt\n",
    "import seaborn as sns\n",
    "\n",
    "from functools import reduce\n",
    "from scipy import stats\n",
    "from scipy.stats import pearsonr"
   ]
  },
  {
   "cell_type": "code",
   "execution_count": 3,
   "metadata": {},
   "outputs": [],
   "source": [
    "sql_0 = pd.read_csv('datasets/moved_project_sql_result_01.csv')\n",
    "sql_1 = pd.read_csv('datasets/moved_project_sql_result_04.csv')\n",
    "sql_2 = pd.read_csv('datasets/moved_project_sql_result_07.csv')"
   ]
  },
  {
   "cell_type": "markdown",
   "metadata": {},
   "source": [
    "# Step 4"
   ]
  },
  {
   "cell_type": "markdown",
   "metadata": {},
   "source": [
    "Studying Data Sets"
   ]
  },
  {
   "cell_type": "code",
   "execution_count": 3,
   "metadata": {},
   "outputs": [
    {
     "data": {
      "text/html": [
       "<div>\n",
       "<style scoped>\n",
       "    .dataframe tbody tr th:only-of-type {\n",
       "        vertical-align: middle;\n",
       "    }\n",
       "\n",
       "    .dataframe tbody tr th {\n",
       "        vertical-align: top;\n",
       "    }\n",
       "\n",
       "    .dataframe thead th {\n",
       "        text-align: right;\n",
       "    }\n",
       "</style>\n",
       "<table border=\"1\" class=\"dataframe\">\n",
       "  <thead>\n",
       "    <tr style=\"text-align: right;\">\n",
       "      <th></th>\n",
       "      <th>company_name</th>\n",
       "      <th>trips_amount</th>\n",
       "    </tr>\n",
       "  </thead>\n",
       "  <tbody>\n",
       "    <tr>\n",
       "      <th>0</th>\n",
       "      <td>Flash Cab</td>\n",
       "      <td>19558</td>\n",
       "    </tr>\n",
       "    <tr>\n",
       "      <th>1</th>\n",
       "      <td>Taxi Affiliation Services</td>\n",
       "      <td>11422</td>\n",
       "    </tr>\n",
       "    <tr>\n",
       "      <th>2</th>\n",
       "      <td>Medallion Leasing</td>\n",
       "      <td>10367</td>\n",
       "    </tr>\n",
       "    <tr>\n",
       "      <th>3</th>\n",
       "      <td>Yellow Cab</td>\n",
       "      <td>9888</td>\n",
       "    </tr>\n",
       "    <tr>\n",
       "      <th>4</th>\n",
       "      <td>Taxi Affiliation Service Yellow</td>\n",
       "      <td>9299</td>\n",
       "    </tr>\n",
       "    <tr>\n",
       "      <th>...</th>\n",
       "      <td>...</td>\n",
       "      <td>...</td>\n",
       "    </tr>\n",
       "    <tr>\n",
       "      <th>59</th>\n",
       "      <td>4053 - 40193 Adwar H. Nikola</td>\n",
       "      <td>7</td>\n",
       "    </tr>\n",
       "    <tr>\n",
       "      <th>60</th>\n",
       "      <td>2733 - 74600 Benny Jona</td>\n",
       "      <td>7</td>\n",
       "    </tr>\n",
       "    <tr>\n",
       "      <th>61</th>\n",
       "      <td>5874 - 73628 Sergey Cab Corp.</td>\n",
       "      <td>5</td>\n",
       "    </tr>\n",
       "    <tr>\n",
       "      <th>62</th>\n",
       "      <td>2241 - 44667 - Felman Corp</td>\n",
       "      <td>3</td>\n",
       "    </tr>\n",
       "    <tr>\n",
       "      <th>63</th>\n",
       "      <td>3556 - 36214 RC Andrews Cab</td>\n",
       "      <td>2</td>\n",
       "    </tr>\n",
       "  </tbody>\n",
       "</table>\n",
       "<p>64 rows × 2 columns</p>\n",
       "</div>"
      ],
      "text/plain": [
       "                       company_name  trips_amount\n",
       "0                         Flash Cab         19558\n",
       "1         Taxi Affiliation Services         11422\n",
       "2                 Medallion Leasing         10367\n",
       "3                        Yellow Cab          9888\n",
       "4   Taxi Affiliation Service Yellow          9299\n",
       "..                              ...           ...\n",
       "59     4053 - 40193 Adwar H. Nikola             7\n",
       "60          2733 - 74600 Benny Jona             7\n",
       "61    5874 - 73628 Sergey Cab Corp.             5\n",
       "62       2241 - 44667 - Felman Corp             3\n",
       "63      3556 - 36214 RC Andrews Cab             2\n",
       "\n",
       "[64 rows x 2 columns]"
      ]
     },
     "metadata": {},
     "output_type": "display_data"
    }
   ],
   "source": [
    "display(sql_0)"
   ]
  },
  {
   "cell_type": "code",
   "execution_count": 4,
   "metadata": {},
   "outputs": [],
   "source": [
    "#changing values in the average_trips column from floats to ints\n",
    "sql_1['average_trips'] = sql_1['average_trips'].astype(int)"
   ]
  },
  {
   "cell_type": "code",
   "execution_count": 5,
   "metadata": {},
   "outputs": [
    {
     "name": "stdout",
     "output_type": "stream",
     "text": [
      "0 0\n"
     ]
    }
   ],
   "source": [
    "#Checking for missing Values \n",
    "missing_0 = sql_0['trips_amount'].isna().sum()\n",
    "missing_1 = sql_1['average_trips'].isna().sum()\n",
    "print(missing_0,missing_1)"
   ]
  },
  {
   "cell_type": "code",
   "execution_count": 6,
   "metadata": {},
   "outputs": [
    {
     "name": "stdout",
     "output_type": "stream",
     "text": [
      "0 0\n"
     ]
    }
   ],
   "source": [
    "#Checking for duplicates\n",
    "duplicates_0 = sql_0.duplicated().sum()\n",
    "duplicates_1 = sql_1.duplicated().sum()\n",
    "print(duplicates_0,duplicates_1)"
   ]
  },
  {
   "cell_type": "markdown",
   "metadata": {},
   "source": [
    "<div class=\"alert alert-danger\"; style=\"border-left: 7px solid red\">\n",
    "<b>⛔️ Reviewer's comment, v. 1</b> \n",
    "\n",
    "Please note that in preprocessing we also should check for full duplicates in the datasets. Also please check the number of missing values **in every column** of every dataset"
   ]
  },
  {
   "cell_type": "markdown",
   "metadata": {},
   "source": [
    "<div class=\"alert alert-success\"; style=\"border-left: 7px solid green\">\n",
    "<b>✅ Reviewer's comment, v. 2</b> \n",
    "    \n",
    "Perfect!"
   ]
  },
  {
   "cell_type": "markdown",
   "metadata": {},
   "source": [
    "Taxi Companies and Number of Rides"
   ]
  },
  {
   "cell_type": "code",
   "execution_count": 56,
   "metadata": {},
   "outputs": [],
   "source": [
    "sql_0_sorted = sql_0.sort_values(by='trips_amount',ascending=False)"
   ]
  },
  {
   "cell_type": "code",
   "execution_count": 58,
   "metadata": {},
   "outputs": [
    {
     "data": {
      "text/html": [
       "<div>\n",
       "<style scoped>\n",
       "    .dataframe tbody tr th:only-of-type {\n",
       "        vertical-align: middle;\n",
       "    }\n",
       "\n",
       "    .dataframe tbody tr th {\n",
       "        vertical-align: top;\n",
       "    }\n",
       "\n",
       "    .dataframe thead th {\n",
       "        text-align: right;\n",
       "    }\n",
       "</style>\n",
       "<table border=\"1\" class=\"dataframe\">\n",
       "  <thead>\n",
       "    <tr style=\"text-align: right;\">\n",
       "      <th></th>\n",
       "      <th>company_name</th>\n",
       "      <th>trips_amount</th>\n",
       "    </tr>\n",
       "  </thead>\n",
       "  <tbody>\n",
       "    <tr>\n",
       "      <th>0</th>\n",
       "      <td>Flash Cab</td>\n",
       "      <td>19558</td>\n",
       "    </tr>\n",
       "    <tr>\n",
       "      <th>1</th>\n",
       "      <td>Taxi Affiliation Services</td>\n",
       "      <td>11422</td>\n",
       "    </tr>\n",
       "    <tr>\n",
       "      <th>2</th>\n",
       "      <td>Medallion Leasing</td>\n",
       "      <td>10367</td>\n",
       "    </tr>\n",
       "    <tr>\n",
       "      <th>3</th>\n",
       "      <td>Yellow Cab</td>\n",
       "      <td>9888</td>\n",
       "    </tr>\n",
       "    <tr>\n",
       "      <th>4</th>\n",
       "      <td>Taxi Affiliation Service Yellow</td>\n",
       "      <td>9299</td>\n",
       "    </tr>\n",
       "    <tr>\n",
       "      <th>5</th>\n",
       "      <td>Chicago Carriage Cab Corp</td>\n",
       "      <td>9181</td>\n",
       "    </tr>\n",
       "    <tr>\n",
       "      <th>6</th>\n",
       "      <td>City Service</td>\n",
       "      <td>8448</td>\n",
       "    </tr>\n",
       "    <tr>\n",
       "      <th>7</th>\n",
       "      <td>Sun Taxi</td>\n",
       "      <td>7701</td>\n",
       "    </tr>\n",
       "    <tr>\n",
       "      <th>8</th>\n",
       "      <td>Star North Management LLC</td>\n",
       "      <td>7455</td>\n",
       "    </tr>\n",
       "    <tr>\n",
       "      <th>9</th>\n",
       "      <td>Blue Ribbon Taxi Association Inc.</td>\n",
       "      <td>5953</td>\n",
       "    </tr>\n",
       "  </tbody>\n",
       "</table>\n",
       "</div>"
      ],
      "text/plain": [
       "                        company_name  trips_amount\n",
       "0                          Flash Cab         19558\n",
       "1          Taxi Affiliation Services         11422\n",
       "2                  Medallion Leasing         10367\n",
       "3                         Yellow Cab          9888\n",
       "4    Taxi Affiliation Service Yellow          9299\n",
       "5          Chicago Carriage Cab Corp          9181\n",
       "6                       City Service          8448\n",
       "7                           Sun Taxi          7701\n",
       "8          Star North Management LLC          7455\n",
       "9  Blue Ribbon Taxi Association Inc.          5953"
      ]
     },
     "execution_count": 58,
     "metadata": {},
     "output_type": "execute_result"
    }
   ],
   "source": [
    "top_10_comps = sql_0_sorted.head(10)\n",
    "top_10_comps"
   ]
  },
  {
   "cell_type": "code",
   "execution_count": 59,
   "metadata": {},
   "outputs": [
    {
     "data": {
      "image/png": "[encoded data removed]",
      "text/plain": [
       "<Figure size 1000x600 with 1 Axes>"
      ]
     },
     "metadata": {},
     "output_type": "display_data"
    }
   ],
   "source": [
    "#Building a graph of taxi companies and number of rides\n",
    "plt.figure(figsize=(10,6))\n",
    "plt.bar(top_10_comps['company_name'],top_10_comps['trips_amount'],color='skyblue')\n",
    "plt.xlabel('Taxi Company')\n",
    "plt.ylabel('Number of Trips')\n",
    "plt.title('Number of Trips per Company')\n",
    "plt.xticks(rotation=45)\n",
    "plt.show()"
   ]
  },
  {
   "cell_type": "markdown",
   "metadata": {},
   "source": [
    "***Conclusions***"
   ]
  },
  {
   "cell_type": "markdown",
   "metadata": {},
   "source": [
    "**Flash Cab Dominance**: Flash Cab has the highest number of trips, nearly reaching 20,000. This indicates that Flash Cab is the most popular or most utilized taxi company among those listed.\n",
    "\n",
    "**Top Competitors**: Taxi Affiliation Services and Medallion Leasing follow Flash Cab with approximately 17,500 and 16,000 trips, respectively. These companies are also significant players in the market, though they don’t reach the same level as Flash Cab.\n",
    "\n",
    "**Market Distribution**: There is a noticeable drop in the number of trips from the top three companies to the others. For example, Yellow Cab and City Service have fewer trips, and Blue Ribbon Taxi Association Inc. has the least, with about 2,500 trips.\n",
    "\n",
    "**Market Concentration**: The market appears to be concentrated among a few top companies, with Flash Cab, Taxi Affiliation Services, and Medallion Leasing capturing a large share of the total trips. The remaining companies share a smaller portion of the market.\n",
    "\n",
    "**Implications for Smaller Companies**: Companies like Blue Ribbon Taxi Association Inc. and Chicago Carriage Cab Corp. have significantly fewer trips, suggesting they might face challenges in competing with the larger, more dominant companies."
   ]
  },
  {
   "cell_type": "markdown",
   "metadata": {},
   "source": [
    "<div class=\"alert alert-success\"; style=\"border-left: 7px solid green\">\n",
    "<b>✅ Reviewer's comment, v. 1</b> \n",
    "    \n",
    "Yep, very nice!\n",
    "</div>"
   ]
  },
  {
   "cell_type": "markdown",
   "metadata": {},
   "source": [
    "Identifying the Top 10 neighborhoods in terms of drop-offs"
   ]
  },
  {
   "cell_type": "code",
   "execution_count": 9,
   "metadata": {},
   "outputs": [],
   "source": [
    "sql_1_sorted = sql_1.sort_values(by='average_trips',ascending=False)"
   ]
  },
  {
   "cell_type": "code",
   "execution_count": 10,
   "metadata": {},
   "outputs": [
    {
     "data": {
      "text/html": [
       "<div>\n",
       "<style scoped>\n",
       "    .dataframe tbody tr th:only-of-type {\n",
       "        vertical-align: middle;\n",
       "    }\n",
       "\n",
       "    .dataframe tbody tr th {\n",
       "        vertical-align: top;\n",
       "    }\n",
       "\n",
       "    .dataframe thead th {\n",
       "        text-align: right;\n",
       "    }\n",
       "</style>\n",
       "<table border=\"1\" class=\"dataframe\">\n",
       "  <thead>\n",
       "    <tr style=\"text-align: right;\">\n",
       "      <th></th>\n",
       "      <th>dropoff_location_name</th>\n",
       "      <th>average_trips</th>\n",
       "    </tr>\n",
       "  </thead>\n",
       "  <tbody>\n",
       "    <tr>\n",
       "      <th>0</th>\n",
       "      <td>Loop</td>\n",
       "      <td>10727</td>\n",
       "    </tr>\n",
       "    <tr>\n",
       "      <th>1</th>\n",
       "      <td>River North</td>\n",
       "      <td>9523</td>\n",
       "    </tr>\n",
       "    <tr>\n",
       "      <th>2</th>\n",
       "      <td>Streeterville</td>\n",
       "      <td>6664</td>\n",
       "    </tr>\n",
       "    <tr>\n",
       "      <th>3</th>\n",
       "      <td>West Loop</td>\n",
       "      <td>5163</td>\n",
       "    </tr>\n",
       "    <tr>\n",
       "      <th>4</th>\n",
       "      <td>O'Hare</td>\n",
       "      <td>2546</td>\n",
       "    </tr>\n",
       "    <tr>\n",
       "      <th>5</th>\n",
       "      <td>Lake View</td>\n",
       "      <td>2420</td>\n",
       "    </tr>\n",
       "    <tr>\n",
       "      <th>6</th>\n",
       "      <td>Grant Park</td>\n",
       "      <td>2068</td>\n",
       "    </tr>\n",
       "    <tr>\n",
       "      <th>7</th>\n",
       "      <td>Museum Campus</td>\n",
       "      <td>1510</td>\n",
       "    </tr>\n",
       "    <tr>\n",
       "      <th>8</th>\n",
       "      <td>Gold Coast</td>\n",
       "      <td>1364</td>\n",
       "    </tr>\n",
       "    <tr>\n",
       "      <th>9</th>\n",
       "      <td>Sheffield &amp; DePaul</td>\n",
       "      <td>1259</td>\n",
       "    </tr>\n",
       "  </tbody>\n",
       "</table>\n",
       "</div>"
      ],
      "text/plain": [
       "  dropoff_location_name  average_trips\n",
       "0                  Loop          10727\n",
       "1           River North           9523\n",
       "2         Streeterville           6664\n",
       "3             West Loop           5163\n",
       "4                O'Hare           2546\n",
       "5             Lake View           2420\n",
       "6            Grant Park           2068\n",
       "7         Museum Campus           1510\n",
       "8            Gold Coast           1364\n",
       "9    Sheffield & DePaul           1259"
      ]
     },
     "execution_count": 10,
     "metadata": {},
     "output_type": "execute_result"
    }
   ],
   "source": [
    "top_10_hoods = sql_1_sorted.head(10)\n",
    "top_10_hoods"
   ]
  },
  {
   "cell_type": "code",
   "execution_count": 12,
   "metadata": {},
   "outputs": [
    {
     "data": {
      "image/png": "[encoded data removed]",
      "text/plain": [
       "<Figure size 1000x600 with 1 Axes>"
      ]
     },
     "metadata": {},
     "output_type": "display_data"
    }
   ],
   "source": [
    "#Building a graph of the top 10 neighborhoods\n",
    "plt.figure(figsize=(10,6))\n",
    "plt.bar(top_10_hoods['dropoff_location_name'],top_10_hoods['average_trips'],color='skyblue')\n",
    "plt.xlabel('Neighborhood')\n",
    "plt.ylabel('Average Trips')\n",
    "plt.title('Top 10 Neighborhoods by Average Drop-offs')\n",
    "plt.xticks(rotation=45)\n",
    "plt.show()"
   ]
  },
  {
   "cell_type": "markdown",
   "metadata": {},
   "source": [
    "**Highest Drop-offs**: The “Loop” neighborhood has the highest average drop-offs, indicating it is a major hub, likely due to its commercial, business, or tourist attractions.\n",
    "\n",
    "**Significant Decrease**: There is a noticeable drop from “Loop” to “Near North,” suggesting that while “Near North” is also popular, it doesn’t attract as much traffic as “Loop.”\n",
    "\n",
    "**Gradual Decline**: The average drop-offs gradually decrease from “Near North” to “Sheffield & DePaul,” showing a more even distribution of drop-offs among these neighborhoods.\n",
    "\n",
    "**Lowest Drop-offs**: “Sheffield & DePaul” has the lowest average drop-offs among the top ten, indicating it might be more residential or less commercially active compared to the others.\n",
    "\n",
    "These results suggest that certain neighborhoods, especially “Loop,” are key areas for activities that generate high traffic, such as business, tourism, or entertainment. This information can be useful for city planners, businesses, and transportation services to understand and cater to the demand in these areas."
   ]
  },
  {
   "cell_type": "markdown",
   "metadata": {},
   "source": [
    "<div class=\"alert alert-success\"; style=\"border-left: 7px solid green\">\n",
    "<b>✅ Reviewer's comment, v. 1</b> \n",
    "    \n",
    "Great! We counted the data from files by dropoff_location_name and company_name, sorted the graphs, applied a single color and indicated small conclusions</div>"
   ]
  },
  {
   "cell_type": "markdown",
   "metadata": {},
   "source": [
    "<div class=\"alert alert-warning\"; style=\"border-left: 7px solid gold\">\n",
    "<b>⚠️ Reviewer's comment, v. 1</b> \n",
    "    \n",
    "Also here you can swap the x and y axes in places so that the names are more readable"
   ]
  },
  {
   "cell_type": "markdown",
   "metadata": {},
   "source": [
    "<div class=\"alert alert-success\"; style=\"border-left: 7px solid green\">\n",
    "<b>✅ Reviewer's comment, v. 1</b> \n",
    "    \n",
    "Also I could recommend you this site, may be you could find smth interesting for visualization skills:\n",
    "\n",
    "https://www.python-graph-gallery.com/"
   ]
  },
  {
   "cell_type": "markdown",
   "metadata": {},
   "source": [
    "# Step 5"
   ]
  },
  {
   "cell_type": "markdown",
   "metadata": {},
   "source": [
    "Studying Data"
   ]
  },
  {
   "cell_type": "code",
   "execution_count": 61,
   "metadata": {},
   "outputs": [
    {
     "data": {
      "text/html": [
       "<div>\n",
       "<style scoped>\n",
       "    .dataframe tbody tr th:only-of-type {\n",
       "        vertical-align: middle;\n",
       "    }\n",
       "\n",
       "    .dataframe tbody tr th {\n",
       "        vertical-align: top;\n",
       "    }\n",
       "\n",
       "    .dataframe thead th {\n",
       "        text-align: right;\n",
       "    }\n",
       "</style>\n",
       "<table border=\"1\" class=\"dataframe\">\n",
       "  <thead>\n",
       "    <tr style=\"text-align: right;\">\n",
       "      <th></th>\n",
       "      <th>start_ts</th>\n",
       "      <th>weather_conditions</th>\n",
       "      <th>duration_seconds</th>\n",
       "    </tr>\n",
       "  </thead>\n",
       "  <tbody>\n",
       "    <tr>\n",
       "      <th>0</th>\n",
       "      <td>2017-11-25 16:00:00</td>\n",
       "      <td>Good</td>\n",
       "      <td>2410.0</td>\n",
       "    </tr>\n",
       "    <tr>\n",
       "      <th>1</th>\n",
       "      <td>2017-11-25 14:00:00</td>\n",
       "      <td>Good</td>\n",
       "      <td>1920.0</td>\n",
       "    </tr>\n",
       "    <tr>\n",
       "      <th>2</th>\n",
       "      <td>2017-11-25 12:00:00</td>\n",
       "      <td>Good</td>\n",
       "      <td>1543.0</td>\n",
       "    </tr>\n",
       "    <tr>\n",
       "      <th>3</th>\n",
       "      <td>2017-11-04 10:00:00</td>\n",
       "      <td>Good</td>\n",
       "      <td>2512.0</td>\n",
       "    </tr>\n",
       "    <tr>\n",
       "      <th>4</th>\n",
       "      <td>2017-11-11 07:00:00</td>\n",
       "      <td>Good</td>\n",
       "      <td>1440.0</td>\n",
       "    </tr>\n",
       "    <tr>\n",
       "      <th>...</th>\n",
       "      <td>...</td>\n",
       "      <td>...</td>\n",
       "      <td>...</td>\n",
       "    </tr>\n",
       "    <tr>\n",
       "      <th>1063</th>\n",
       "      <td>2017-11-25 11:00:00</td>\n",
       "      <td>Good</td>\n",
       "      <td>0.0</td>\n",
       "    </tr>\n",
       "    <tr>\n",
       "      <th>1064</th>\n",
       "      <td>2017-11-11 10:00:00</td>\n",
       "      <td>Good</td>\n",
       "      <td>1318.0</td>\n",
       "    </tr>\n",
       "    <tr>\n",
       "      <th>1065</th>\n",
       "      <td>2017-11-11 13:00:00</td>\n",
       "      <td>Good</td>\n",
       "      <td>2100.0</td>\n",
       "    </tr>\n",
       "    <tr>\n",
       "      <th>1066</th>\n",
       "      <td>2017-11-11 08:00:00</td>\n",
       "      <td>Good</td>\n",
       "      <td>1380.0</td>\n",
       "    </tr>\n",
       "    <tr>\n",
       "      <th>1067</th>\n",
       "      <td>2017-11-04 16:00:00</td>\n",
       "      <td>Bad</td>\n",
       "      <td>2834.0</td>\n",
       "    </tr>\n",
       "  </tbody>\n",
       "</table>\n",
       "<p>1068 rows × 3 columns</p>\n",
       "</div>"
      ],
      "text/plain": [
       "                 start_ts weather_conditions  duration_seconds\n",
       "0     2017-11-25 16:00:00               Good            2410.0\n",
       "1     2017-11-25 14:00:00               Good            1920.0\n",
       "2     2017-11-25 12:00:00               Good            1543.0\n",
       "3     2017-11-04 10:00:00               Good            2512.0\n",
       "4     2017-11-11 07:00:00               Good            1440.0\n",
       "...                   ...                ...               ...\n",
       "1063  2017-11-25 11:00:00               Good               0.0\n",
       "1064  2017-11-11 10:00:00               Good            1318.0\n",
       "1065  2017-11-11 13:00:00               Good            2100.0\n",
       "1066  2017-11-11 08:00:00               Good            1380.0\n",
       "1067  2017-11-04 16:00:00                Bad            2834.0\n",
       "\n",
       "[1068 rows x 3 columns]"
      ]
     },
     "metadata": {},
     "output_type": "display_data"
    }
   ],
   "source": [
    "display(sql_2)"
   ]
  },
  {
   "cell_type": "code",
   "execution_count": 62,
   "metadata": {},
   "outputs": [],
   "source": [
    "sql_2['duration_seconds'] = sql_2['duration_seconds'].astype(int)"
   ]
  },
  {
   "cell_type": "markdown",
   "metadata": {},
   "source": [
    "<div class=\"alert alert-success\"; style=\"border-left: 7px solid green\">\n",
    "<b>✅ Reviewer's comment, v. 1</b> \n",
    "    \n",
    "It was done correctly</div>"
   ]
  },
  {
   "cell_type": "markdown",
   "metadata": {},
   "source": [
    "Testing the hypothesis\n",
    "\n",
    "\"The average duration of rides from the Loop to O'Hare International Airport changes on rainy Saturdays.\""
   ]
  },
  {
   "cell_type": "markdown",
   "metadata": {},
   "source": [
    "**Step 1**: Formulate Hypotheses\n",
    "Null Hypothesis (H₀): The average duration of rides from the Loop to O’Hare International Airport does not change on rainy Saturdays.\n",
    "\n",
    "Alternative Hypothesis (H₁): The average duration of rides from the Loop to O’Hare International Airport changes on rainy Saturdays.\n",
    "\n",
    "**Step 2**: Set the Significance Level\n",
    "We’ll set the significance level (alpha) at 0.05, which is a common choice in hypothesis testing.\n",
    "\n",
    "**Step 3**: Collect and Prepare Data\n",
    "We’ll filter the dataframe to include only rides on Saturdays and then separate the data into two groups: rainy and non-rainy.\n",
    "\n",
    "**Step 4**: Perform the Statistical Test\n",
    "We’ll use an independent two-sample t-test to compare the means of the two groups. This test is appropriate because we are comparing the means of two independent groups.\n",
    "\n",
    "**Step 5**: Interpret the Results\n",
    "We’ll determine whether to reject the null hypothesis based on the p-value from the t-test.\n",
    "Here’s how you can accomplish this in Python:"
   ]
  },
  {
   "cell_type": "markdown",
   "metadata": {},
   "source": [
    "<div class=\"alert alert-success\"; style=\"border-left: 7px solid green\">\n",
    "<b>✅ Reviewer's comment, v. 1</b> \n",
    "    \n",
    "Hypotheses were formulated</div>"
   ]
  },
  {
   "cell_type": "code",
   "execution_count": 64,
   "metadata": {},
   "outputs": [
    {
     "name": "stdout",
     "output_type": "stream",
     "text": [
      "T-statistic: 6.946177714041499\n",
      "P-value: 6.517970327099473e-12\n",
      "Reject the null hypothesis: There is a significant difference in ride durations on rainy Saturdays.\n"
     ]
    }
   ],
   "source": [
    "# Convert start_ts to datetime\n",
    "sql_2['start_ts'] = pd.to_datetime(sql_2['start_ts'])\n",
    "\n",
    "# Filter data for Saturdays\n",
    "sql_2['day_of_week'] = sql_2['start_ts'].dt.day_name()\n",
    "saturdays_df = sql_2[sql_2['day_of_week'] == 'Saturday']\n",
    "\n",
    "# Separate data into rainy and non-rainy\n",
    "rainy_saturdays = saturdays_df[saturdays_df['weather_conditions'] == 'Bad']['duration_seconds']\n",
    "non_rainy_saturdays = saturdays_df[saturdays_df['weather_conditions'] == 'Good']['duration_seconds']\n",
    "\n",
    "# Perform two-sample t-test\n",
    "t_stat, p_value = stats.ttest_ind(rainy_saturdays, non_rainy_saturdays, nan_policy='omit')\n",
    "\n",
    "# Print results\n",
    "print(f\"T-statistic: {t_stat}\")\n",
    "print(f\"P-value: {p_value}\")\n",
    "\n",
    "# Interpret the results\n",
    "alpha = 0.05\n",
    "if p_value < alpha:\n",
    "    print(\"Reject the null hypothesis: There is a significant difference in ride durations on rainy Saturdays.\")\n",
    "else:\n",
    "    print(\"Fail to reject the null hypothesis: There is no significant difference in ride durations on rainy Saturdays.\")"
   ]
  },
  {
   "cell_type": "markdown",
   "metadata": {},
   "source": [
    "**Explanation**"
   ]
  },
  {
   "cell_type": "markdown",
   "metadata": {},
   "source": [
    "\n",
    "* ***Null and Alternative Hypotheses**: We assume no difference in average ride durations (null hypothesis) and test against the possibility of a difference (alternative hypothesis).\n",
    "\n",
    "* **Significance Level**: We chose 0.05 to balance the risk of Type I and Type II errors.\n",
    "\n",
    "* **Statistical Test**: The independent two-sample t-test is used because it compares the means of two independent groups.\n",
    "\n",
    "* **Interpretation**: Based on the p-value, we decide whether to reject the null hypothesis."
   ]
  },
  {
   "cell_type": "markdown",
   "metadata": {},
   "source": [
    "**Overall Conclusion**"
   ]
  },
  {
   "cell_type": "markdown",
   "metadata": {},
   "source": [
    "In conclusion, our research indicates that the taxi industry leans heavily towards market domination by a few key companies, including Flash Cab, Taxi Affiliation Services and Medallion Leasing. These leaders notably outperform smaller entities like Blue Ribbon Taxi Association Inc., which struggle with competitiveness in the face of heightened market concentration. \n",
    "\n",
    "The location data collected points towards the \"Loop\" neighborhood as the primary destination for drop-offs, implying its high commercial or tourist activity. In contrast, areas like \"Sheffield & DePaul\" demonstrate lower destination demand, hinting at a more residential nature or less commercial activity. \n",
    "\n",
    "The statistical analysis, drawn from two-sample t-tests, helped us understand and interpret the taxi operation patterns. The significance level of 0.05 was instrumental in balancing the risk of Type I and II errors. \n",
    "This study offers valuable insights for a variety of audiences, from city planners to transportation services, for accommodating the demand dynamics across different areas, and provides strategic inputs for smaller taxi companies to enhance their market presence."
   ]
  },
  {
   "cell_type": "markdown",
   "metadata": {},
   "source": [
    "<div class=\"alert alert-success\"; style=\"border-left: 7px solid green\">\n",
    "<b>✅ Reviewer's comment, v. 1</b>\n",
    "\n",
    "The entire output is formed brilliantly"
   ]
  },
  {
   "cell_type": "markdown",
   "metadata": {},
   "source": [
    "<div class=\"alert alert-danger\"; style=\"border-left: 7px solid red\">\n",
    "<b>⛔️ Reviewer's comment, v. 1</b>\n",
    "\n",
    "But also, please note that in each research, in addition to intermediate conclusions, there should be a general conclusion on all the work carried out. It is not necessary to reflect all the stages in this conclusion in great detail, it is enough to add the main points."
   ]
  },
  {
   "cell_type": "markdown",
   "metadata": {},
   "source": [
    "<div class=\"alert alert-success\"; style=\"border-left: 7px solid green\">\n",
    "<b>✅ Reviewer's comment, v. 2</b> \n",
    "    \n",
    "That's great! The general conclusion in the project has also been added"
   ]
  },
  {
   "cell_type": "markdown",
   "metadata": {},
   "source": [
    "<div class=\"alert alert-success\"; style=\"border-left: 7px solid green\">\n",
    "<b>Review summary</b> \n",
    "    \n",
    "Justin, the project is great! You have very strong analytical skills, knowledge of research tools and understanding of statistical methods. But still there are a few comments in the project and I will ask you to correct them so that your project becomes even better!"
   ]
  }
 ],
 "metadata": {
  "ExecuteTimeLog": [
   {
    "duration": 4967,
    "start_time": "2024-07-29T15:23:04.366Z"
   },
   {
    "duration": 1093,
    "start_time": "2024-07-29T15:39:56.906Z"
   },
   {
    "duration": 16,
    "start_time": "2024-07-29T15:40:05.104Z"
   },
   {
    "duration": 15,
    "start_time": "2024-07-29T15:40:24.942Z"
   },
   {
    "duration": 9,
    "start_time": "2024-07-29T15:40:31.364Z"
   },
   {
    "duration": 10,
    "start_time": "2024-07-29T15:40:45.226Z"
   },
   {
    "duration": 9,
    "start_time": "2024-07-29T16:04:43.307Z"
   },
   {
    "duration": 9,
    "start_time": "2024-07-29T16:04:59.642Z"
   },
   {
    "duration": 5,
    "start_time": "2024-07-29T16:11:20.123Z"
   },
   {
    "duration": 10,
    "start_time": "2024-07-29T16:11:28.063Z"
   },
   {
    "duration": 5,
    "start_time": "2024-07-29T16:11:52.137Z"
   },
   {
    "duration": 4,
    "start_time": "2024-07-29T16:13:38.937Z"
   },
   {
    "duration": 25,
    "start_time": "2024-07-29T16:16:49.971Z"
   },
   {
    "duration": 22,
    "start_time": "2024-07-29T16:57:41.521Z"
   },
   {
    "duration": 13,
    "start_time": "2024-07-29T17:18:41.946Z"
   },
   {
    "duration": 27,
    "start_time": "2024-07-29T17:18:45.394Z"
   },
   {
    "duration": 10,
    "start_time": "2024-07-29T17:19:18.486Z"
   },
   {
    "duration": 12,
    "start_time": "2024-07-29T17:19:27.147Z"
   },
   {
    "duration": 4,
    "start_time": "2024-07-29T17:20:23.048Z"
   },
   {
    "duration": 7,
    "start_time": "2024-07-29T17:20:27.921Z"
   },
   {
    "duration": 8,
    "start_time": "2024-07-29T17:21:06.082Z"
   },
   {
    "duration": 6,
    "start_time": "2024-07-29T17:21:15.121Z"
   },
   {
    "duration": 24,
    "start_time": "2024-07-29T17:22:55.187Z"
   },
   {
    "duration": 4,
    "start_time": "2024-07-29T17:32:49.922Z"
   },
   {
    "duration": 258,
    "start_time": "2024-07-29T17:33:22.761Z"
   },
   {
    "duration": 33,
    "start_time": "2024-07-29T17:33:42.422Z"
   },
   {
    "duration": 34,
    "start_time": "2024-07-29T17:34:07.661Z"
   },
   {
    "duration": 24,
    "start_time": "2024-07-29T17:34:48.829Z"
   },
   {
    "duration": 14,
    "start_time": "2024-07-29T17:35:41.552Z"
   },
   {
    "duration": 3,
    "start_time": "2024-07-29T17:36:47.001Z"
   },
   {
    "duration": 8,
    "start_time": "2024-07-29T17:36:54.881Z"
   },
   {
    "duration": 4,
    "start_time": "2024-07-29T17:37:10.002Z"
   },
   {
    "duration": 8,
    "start_time": "2024-07-29T17:37:12.165Z"
   },
   {
    "duration": 38,
    "start_time": "2024-07-29T17:37:38.056Z"
   },
   {
    "duration": 4,
    "start_time": "2024-07-29T17:38:19.023Z"
   },
   {
    "duration": 17,
    "start_time": "2024-07-29T17:38:19.442Z"
   },
   {
    "duration": 11,
    "start_time": "2024-07-29T17:38:22.251Z"
   },
   {
    "duration": 10,
    "start_time": "2024-07-29T17:38:24.736Z"
   },
   {
    "duration": 5,
    "start_time": "2024-07-29T17:38:29.161Z"
   },
   {
    "duration": 6,
    "start_time": "2024-07-29T17:38:32.084Z"
   },
   {
    "duration": 10,
    "start_time": "2024-07-29T18:02:51.662Z"
   },
   {
    "duration": 23,
    "start_time": "2024-07-29T18:16:11.733Z"
   },
   {
    "duration": 5,
    "start_time": "2024-07-29T18:16:16.885Z"
   },
   {
    "duration": 5,
    "start_time": "2024-07-29T18:16:36.382Z"
   },
   {
    "duration": 9,
    "start_time": "2024-07-29T18:16:52.607Z"
   },
   {
    "duration": 4,
    "start_time": "2024-07-29T18:20:54.727Z"
   },
   {
    "duration": 10,
    "start_time": "2024-07-29T18:20:56.803Z"
   },
   {
    "duration": 11,
    "start_time": "2024-07-29T18:23:35.572Z"
   },
   {
    "duration": 282,
    "start_time": "2024-07-29T18:25:34.327Z"
   },
   {
    "duration": 263,
    "start_time": "2024-07-29T18:25:42.433Z"
   },
   {
    "duration": 922,
    "start_time": "2024-07-29T18:43:59.527Z"
   },
   {
    "duration": 1834,
    "start_time": "2024-07-29T18:44:24.555Z"
   },
   {
    "duration": 13,
    "start_time": "2024-07-29T18:47:37.666Z"
   },
   {
    "duration": 14,
    "start_time": "2024-07-29T18:57:14.782Z"
   },
   {
    "duration": 39,
    "start_time": "2024-07-29T18:58:43.518Z"
   },
   {
    "duration": 4,
    "start_time": "2024-07-29T18:58:54.241Z"
   },
   {
    "duration": 7,
    "start_time": "2024-07-29T18:59:22.758Z"
   },
   {
    "duration": 10,
    "start_time": "2024-07-29T18:59:36.703Z"
   },
   {
    "duration": 312,
    "start_time": "2024-07-29T19:00:08.805Z"
   },
   {
    "duration": 5,
    "start_time": "2024-07-29T19:06:47.930Z"
   },
   {
    "duration": 28,
    "start_time": "2024-07-29T19:07:07.389Z"
   },
   {
    "duration": 5,
    "start_time": "2024-07-29T19:07:46.223Z"
   },
   {
    "duration": 14,
    "start_time": "2024-07-29T19:08:02.227Z"
   },
   {
    "duration": 20,
    "start_time": "2024-07-29T19:18:53.713Z"
   },
   {
    "duration": 5,
    "start_time": "2024-07-29T20:33:15.739Z"
   },
   {
    "duration": 331,
    "start_time": "2024-07-29T20:33:49.300Z"
   },
   {
    "duration": 5409,
    "start_time": "2024-07-29T20:34:00.492Z"
   },
   {
    "duration": 33,
    "start_time": "2024-07-29T20:34:07.313Z"
   },
   {
    "duration": 5,
    "start_time": "2024-07-29T20:34:13.264Z"
   },
   {
    "duration": 6,
    "start_time": "2024-07-29T20:34:14.407Z"
   },
   {
    "duration": 9,
    "start_time": "2024-07-29T20:34:17.022Z"
   },
   {
    "duration": 126,
    "start_time": "2024-07-29T20:42:39.408Z"
   },
   {
    "duration": 5,
    "start_time": "2024-07-29T20:42:44.367Z"
   },
   {
    "duration": 13,
    "start_time": "2024-07-29T20:42:44.817Z"
   },
   {
    "duration": 269,
    "start_time": "2024-07-29T20:42:48.627Z"
   },
   {
    "duration": 263,
    "start_time": "2024-07-29T20:43:02.027Z"
   },
   {
    "duration": 4844,
    "start_time": "2024-07-30T07:30:13.079Z"
   },
   {
    "duration": 26,
    "start_time": "2024-07-30T07:30:18.976Z"
   },
   {
    "duration": 16,
    "start_time": "2024-07-30T07:30:20.742Z"
   },
   {
    "duration": 5,
    "start_time": "2024-07-30T07:30:21.561Z"
   },
   {
    "duration": 5,
    "start_time": "2024-07-30T07:30:22.851Z"
   },
   {
    "duration": 7,
    "start_time": "2024-07-30T07:30:23.537Z"
   }
  ],
  "kernelspec": {
   "display_name": "Python 3 (ipykernel)",
   "language": "python",
   "name": "python3"
  },
  "language_info": {
   "codemirror_mode": {
    "name": "ipython",
    "version": 3
   },
   "file_extension": ".py",
   "mimetype": "text/x-python",
   "name": "python",
   "nbconvert_exporter": "python",
   "pygments_lexer": "ipython3",
   "version": "3.12.3"
  },
  "toc": {
   "base_numbering": 1,
   "nav_menu": {},
   "number_sections": true,
   "sideBar": true,
   "skip_h1_title": true,
   "title_cell": "Table of Contents",
   "title_sidebar": "Contents",
   "toc_cell": false,
   "toc_position": {},
   "toc_section_display": true,
   "toc_window_display": false
  }
 },
 "nbformat": 4,
 "nbformat_minor": 2
}
